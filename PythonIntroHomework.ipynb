{
 "cells": [
  {
   "cell_type": "markdown",
   "metadata": {},
   "source": [
    "For the double list of numbers in numbers.txt\n",
    "1. Sum the numbers on each line.\n",
    "1. Sum all the numbers.\n",
    "1. Concatenate them all into a single list.\n",
    "1. Count how many of them are larger than 30.1.\n",
    "1. For each natural number threshold from 1 to 100 show how many numbers are smaller than it."
   ]
  },
  {
   "cell_type": "code",
   "execution_count": 1,
   "metadata": {},
   "outputs": [
    {
     "name": "stdout",
     "output_type": "stream",
     "text": [
      "[[10.0, 15.0, 20.0, 30.0], [20.0, 25.0, 50.0, 80.0], [50.0, 54.0, 55.0, 70.0], [30.0, 35.0, 60.0, 13.0], [40.0, 45.0, 70.0, 30.0], [60.0, 66.0, 12.0, 17.0]]\n"
     ]
    }
   ],
   "source": [
    "f=open('numbers.txt')\n",
    "def process_line(line):\n",
    "    return list(map(float,str.split(line[:-1],',')))\n",
    "nums=[process_line(line) for line in f]\n",
    "print(nums)\n"
   ]
  },
  {
   "cell_type": "code",
   "execution_count": 2,
   "metadata": {},
   "outputs": [
    {
     "name": "stdout",
     "output_type": "stream",
     "text": [
      "[[10.0, 15.0, 20.0, 30.0], [20.0, 25.0, 50.0, 80.0], [50.0, 54.0, 55.0, 70.0], [30.0, 35.0, 60.0, 13.0], [40.0, 45.0, 70.0, 30.0], [60.0, 66.0, 12.0, 17.0]]\n"
     ]
    }
   ],
   "source": [
    "print(nums)\n"
   ]
  },
  {
   "cell_type": "code",
   "execution_count": 43,
   "metadata": {},
   "outputs": [
    {
     "data": {
      "text/plain": [
       "[10.0,\n",
       " 15.0,\n",
       " 20.0,\n",
       " 30.0,\n",
       " 20.0,\n",
       " 25.0,\n",
       " 50.0,\n",
       " 80.0,\n",
       " 50.0,\n",
       " 54.0,\n",
       " 55.0,\n",
       " 70.0,\n",
       " 30.0,\n",
       " 35.0,\n",
       " 60.0,\n",
       " 13.0,\n",
       " 40.0,\n",
       " 45.0,\n",
       " 70.0,\n",
       " 30.0,\n",
       " 60.0,\n",
       " 66.0,\n",
       " 12.0,\n",
       " 17.0]"
      ]
     },
     "execution_count": 43,
     "metadata": {},
     "output_type": "execute_result"
    }
   ],
   "source": [
    "nums3=[]\n",
    "for i in range(0,len(nums)):\n",
    "    nums3+=nums[i]\n",
    "list(nums3)"
   ]
  },
  {
   "cell_type": "code",
   "execution_count": 37,
   "metadata": {},
   "outputs": [
    {
     "name": "stdout",
     "output_type": "stream",
     "text": [
      "The sum of the numbers belonging to line  1  is  75.0\n",
      "The sum of the numbers belonging to line  2  is  175.0\n",
      "The sum of the numbers belonging to line  3  is  229.0\n",
      "The sum of the numbers belonging to line  4  is  138.0\n",
      "The sum of the numbers belonging to line  5  is  185.0\n",
      "The sum of the numbers belonging to line  6  is  155.0\n"
     ]
    }
   ],
   "source": [
    "for i in range(0,len(nums)):\n",
    "    s=0\n",
    "    for j in range(0,len(nums[i])):\n",
    "        s+=nums[i][j]\n",
    "    print(\"The sum of the numbers belonging to line \",i+1,\" is \",s)"
   ]
  },
  {
   "cell_type": "code",
   "execution_count": 40,
   "metadata": {},
   "outputs": [
    {
     "name": "stdout",
     "output_type": "stream",
     "text": [
      "The sum of all the numbers is  957.0\n"
     ]
    }
   ],
   "source": [
    "s=0\n",
    "for i in range(0,len(nums)):\n",
    "    for j in range(0,len(nums[i])):\n",
    "        s+=nums[i][j]\n",
    "print(\"The sum of all the numbers is \",s)"
   ]
  },
  {
   "cell_type": "code",
   "execution_count": 52,
   "metadata": {},
   "outputs": [
    {
     "name": "stdout",
     "output_type": "stream",
     "text": [
      "There are  13  numbers larger than 30.1 in the initial list.\n",
      "There are  13  numbers larger than 30.1 in the initial list.\n"
     ]
    }
   ],
   "source": [
    "nums4=list(filter(lambda x:x>30.1,nums3))\n",
    "nums4_a=[]\n",
    "for i in range(0,len(nums3)):\n",
    "    if nums3[i]>30.1:\n",
    "        nums4_a.append(nums3[i])\n",
    "list(nums4)\n",
    "list(nums4_a)\n",
    "if(nums4!=1):\n",
    "    print(\"There are \",len(nums4),\" numbers larger than 30.1 in the initial list.\")\n",
    "    print(\"There are \",len(nums4_a),\" numbers larger than 30.1 in the initial list.\")\n",
    "else:\n",
    "    print(\"There is only one number larger than 30.1 in the initial list.\")\n",
    "    print(\"There is only one number larger than 30.1 in the initial list.\")"
   ]
  },
  {
   "cell_type": "code",
   "execution_count": 53,
   "metadata": {},
   "outputs": [
    {
     "name": "stdout",
     "output_type": "stream",
     "text": [
      "There are  0  numbers smaller than  1  in the initial list.\n",
      "There are  0  numbers smaller than  1  in the initial list.\n",
      "There are  0  numbers smaller than  2  in the initial list.\n",
      "There are  0  numbers smaller than  2  in the initial list.\n",
      "There are  0  numbers smaller than  3  in the initial list.\n",
      "There are  0  numbers smaller than  3  in the initial list.\n",
      "There are  0  numbers smaller than  4  in the initial list.\n",
      "There are  0  numbers smaller than  4  in the initial list.\n",
      "There are  0  numbers smaller than  5  in the initial list.\n",
      "There are  0  numbers smaller than  5  in the initial list.\n",
      "There are  0  numbers smaller than  6  in the initial list.\n",
      "There are  0  numbers smaller than  6  in the initial list.\n",
      "There are  0  numbers smaller than  7  in the initial list.\n",
      "There are  0  numbers smaller than  7  in the initial list.\n",
      "There are  0  numbers smaller than  8  in the initial list.\n",
      "There are  0  numbers smaller than  8  in the initial list.\n",
      "There are  0  numbers smaller than  9  in the initial list.\n",
      "There are  0  numbers smaller than  9  in the initial list.\n",
      "There are  0  numbers smaller than  10  in the initial list.\n",
      "There are  0  numbers smaller than  10  in the initial list.\n",
      "There is only one number smaller than  11  in the initial list.\n",
      "There is only one number smaller than  11  in the initial list.\n",
      "There is only one number smaller than  12  in the initial list.\n",
      "There is only one number smaller than  12  in the initial list.\n",
      "There are  2  numbers smaller than  13  in the initial list.\n",
      "There are  2  numbers smaller than  13  in the initial list.\n",
      "There are  3  numbers smaller than  14  in the initial list.\n",
      "There are  3  numbers smaller than  14  in the initial list.\n",
      "There are  3  numbers smaller than  15  in the initial list.\n",
      "There are  3  numbers smaller than  15  in the initial list.\n",
      "There are  4  numbers smaller than  16  in the initial list.\n",
      "There are  4  numbers smaller than  16  in the initial list.\n",
      "There are  4  numbers smaller than  17  in the initial list.\n",
      "There are  4  numbers smaller than  17  in the initial list.\n",
      "There are  5  numbers smaller than  18  in the initial list.\n",
      "There are  5  numbers smaller than  18  in the initial list.\n",
      "There are  5  numbers smaller than  19  in the initial list.\n",
      "There are  5  numbers smaller than  19  in the initial list.\n",
      "There are  5  numbers smaller than  20  in the initial list.\n",
      "There are  5  numbers smaller than  20  in the initial list.\n",
      "There are  7  numbers smaller than  21  in the initial list.\n",
      "There are  7  numbers smaller than  21  in the initial list.\n",
      "There are  7  numbers smaller than  22  in the initial list.\n",
      "There are  7  numbers smaller than  22  in the initial list.\n",
      "There are  7  numbers smaller than  23  in the initial list.\n",
      "There are  7  numbers smaller than  23  in the initial list.\n",
      "There are  7  numbers smaller than  24  in the initial list.\n",
      "There are  7  numbers smaller than  24  in the initial list.\n",
      "There are  7  numbers smaller than  25  in the initial list.\n",
      "There are  7  numbers smaller than  25  in the initial list.\n",
      "There are  8  numbers smaller than  26  in the initial list.\n",
      "There are  8  numbers smaller than  26  in the initial list.\n",
      "There are  8  numbers smaller than  27  in the initial list.\n",
      "There are  8  numbers smaller than  27  in the initial list.\n",
      "There are  8  numbers smaller than  28  in the initial list.\n",
      "There are  8  numbers smaller than  28  in the initial list.\n",
      "There are  8  numbers smaller than  29  in the initial list.\n",
      "There are  8  numbers smaller than  29  in the initial list.\n",
      "There are  8  numbers smaller than  30  in the initial list.\n",
      "There are  8  numbers smaller than  30  in the initial list.\n",
      "There are  11  numbers smaller than  31  in the initial list.\n",
      "There are  11  numbers smaller than  31  in the initial list.\n",
      "There are  11  numbers smaller than  32  in the initial list.\n",
      "There are  11  numbers smaller than  32  in the initial list.\n",
      "There are  11  numbers smaller than  33  in the initial list.\n",
      "There are  11  numbers smaller than  33  in the initial list.\n",
      "There are  11  numbers smaller than  34  in the initial list.\n",
      "There are  11  numbers smaller than  34  in the initial list.\n",
      "There are  11  numbers smaller than  35  in the initial list.\n",
      "There are  11  numbers smaller than  35  in the initial list.\n",
      "There are  12  numbers smaller than  36  in the initial list.\n",
      "There are  12  numbers smaller than  36  in the initial list.\n",
      "There are  12  numbers smaller than  37  in the initial list.\n",
      "There are  12  numbers smaller than  37  in the initial list.\n",
      "There are  12  numbers smaller than  38  in the initial list.\n",
      "There are  12  numbers smaller than  38  in the initial list.\n",
      "There are  12  numbers smaller than  39  in the initial list.\n",
      "There are  12  numbers smaller than  39  in the initial list.\n",
      "There are  12  numbers smaller than  40  in the initial list.\n",
      "There are  12  numbers smaller than  40  in the initial list.\n",
      "There are  13  numbers smaller than  41  in the initial list.\n",
      "There are  13  numbers smaller than  41  in the initial list.\n",
      "There are  13  numbers smaller than  42  in the initial list.\n",
      "There are  13  numbers smaller than  42  in the initial list.\n",
      "There are  13  numbers smaller than  43  in the initial list.\n",
      "There are  13  numbers smaller than  43  in the initial list.\n",
      "There are  13  numbers smaller than  44  in the initial list.\n",
      "There are  13  numbers smaller than  44  in the initial list.\n",
      "There are  13  numbers smaller than  45  in the initial list.\n",
      "There are  13  numbers smaller than  45  in the initial list.\n",
      "There are  14  numbers smaller than  46  in the initial list.\n",
      "There are  14  numbers smaller than  46  in the initial list.\n",
      "There are  14  numbers smaller than  47  in the initial list.\n",
      "There are  14  numbers smaller than  47  in the initial list.\n",
      "There are  14  numbers smaller than  48  in the initial list.\n",
      "There are  14  numbers smaller than  48  in the initial list.\n",
      "There are  14  numbers smaller than  49  in the initial list.\n",
      "There are  14  numbers smaller than  49  in the initial list.\n",
      "There are  14  numbers smaller than  50  in the initial list.\n",
      "There are  14  numbers smaller than  50  in the initial list.\n",
      "There are  16  numbers smaller than  51  in the initial list.\n",
      "There are  16  numbers smaller than  51  in the initial list.\n",
      "There are  16  numbers smaller than  52  in the initial list.\n",
      "There are  16  numbers smaller than  52  in the initial list.\n",
      "There are  16  numbers smaller than  53  in the initial list.\n",
      "There are  16  numbers smaller than  53  in the initial list.\n",
      "There are  16  numbers smaller than  54  in the initial list.\n",
      "There are  16  numbers smaller than  54  in the initial list.\n",
      "There are  17  numbers smaller than  55  in the initial list.\n",
      "There are  17  numbers smaller than  55  in the initial list.\n",
      "There are  18  numbers smaller than  56  in the initial list.\n",
      "There are  18  numbers smaller than  56  in the initial list.\n",
      "There are  18  numbers smaller than  57  in the initial list.\n",
      "There are  18  numbers smaller than  57  in the initial list.\n",
      "There are  18  numbers smaller than  58  in the initial list.\n",
      "There are  18  numbers smaller than  58  in the initial list.\n",
      "There are  18  numbers smaller than  59  in the initial list.\n",
      "There are  18  numbers smaller than  59  in the initial list.\n",
      "There are  18  numbers smaller than  60  in the initial list.\n",
      "There are  18  numbers smaller than  60  in the initial list.\n",
      "There are  20  numbers smaller than  61  in the initial list.\n",
      "There are  20  numbers smaller than  61  in the initial list.\n",
      "There are  20  numbers smaller than  62  in the initial list.\n",
      "There are  20  numbers smaller than  62  in the initial list.\n",
      "There are  20  numbers smaller than  63  in the initial list.\n",
      "There are  20  numbers smaller than  63  in the initial list.\n",
      "There are  20  numbers smaller than  64  in the initial list.\n",
      "There are  20  numbers smaller than  64  in the initial list.\n",
      "There are  20  numbers smaller than  65  in the initial list.\n",
      "There are  20  numbers smaller than  65  in the initial list.\n",
      "There are  20  numbers smaller than  66  in the initial list.\n",
      "There are  20  numbers smaller than  66  in the initial list.\n",
      "There are  21  numbers smaller than  67  in the initial list.\n",
      "There are  21  numbers smaller than  67  in the initial list.\n",
      "There are  21  numbers smaller than  68  in the initial list.\n",
      "There are  21  numbers smaller than  68  in the initial list.\n",
      "There are  21  numbers smaller than  69  in the initial list.\n",
      "There are  21  numbers smaller than  69  in the initial list.\n",
      "There are  21  numbers smaller than  70  in the initial list.\n",
      "There are  21  numbers smaller than  70  in the initial list.\n",
      "There are  23  numbers smaller than  71  in the initial list.\n",
      "There are  23  numbers smaller than  71  in the initial list.\n",
      "There are  23  numbers smaller than  72  in the initial list.\n",
      "There are  23  numbers smaller than  72  in the initial list.\n",
      "There are  23  numbers smaller than  73  in the initial list.\n",
      "There are  23  numbers smaller than  73  in the initial list.\n",
      "There are  23  numbers smaller than  74  in the initial list.\n",
      "There are  23  numbers smaller than  74  in the initial list.\n",
      "There are  23  numbers smaller than  75  in the initial list.\n",
      "There are  23  numbers smaller than  75  in the initial list.\n",
      "There are  23  numbers smaller than  76  in the initial list.\n",
      "There are  23  numbers smaller than  76  in the initial list.\n",
      "There are  23  numbers smaller than  77  in the initial list.\n",
      "There are  23  numbers smaller than  77  in the initial list.\n",
      "There are  23  numbers smaller than  78  in the initial list.\n",
      "There are  23  numbers smaller than  78  in the initial list.\n",
      "There are  23  numbers smaller than  79  in the initial list.\n",
      "There are  23  numbers smaller than  79  in the initial list.\n",
      "There are  23  numbers smaller than  80  in the initial list.\n",
      "There are  23  numbers smaller than  80  in the initial list.\n",
      "There are  24  numbers smaller than  81  in the initial list.\n",
      "There are  24  numbers smaller than  81  in the initial list.\n",
      "There are  24  numbers smaller than  82  in the initial list.\n",
      "There are  24  numbers smaller than  82  in the initial list.\n",
      "There are  24  numbers smaller than  83  in the initial list.\n",
      "There are  24  numbers smaller than  83  in the initial list.\n",
      "There are  24  numbers smaller than  84  in the initial list.\n",
      "There are  24  numbers smaller than  84  in the initial list.\n",
      "There are  24  numbers smaller than  85  in the initial list.\n",
      "There are  24  numbers smaller than  85  in the initial list.\n",
      "There are  24  numbers smaller than  86  in the initial list.\n",
      "There are  24  numbers smaller than  86  in the initial list.\n",
      "There are  24  numbers smaller than  87  in the initial list.\n",
      "There are  24  numbers smaller than  87  in the initial list.\n",
      "There are  24  numbers smaller than  88  in the initial list.\n",
      "There are  24  numbers smaller than  88  in the initial list.\n",
      "There are  24  numbers smaller than  89  in the initial list.\n",
      "There are  24  numbers smaller than  89  in the initial list.\n",
      "There are  24  numbers smaller than  90  in the initial list.\n",
      "There are  24  numbers smaller than  90  in the initial list.\n",
      "There are  24  numbers smaller than  91  in the initial list.\n",
      "There are  24  numbers smaller than  91  in the initial list.\n",
      "There are  24  numbers smaller than  92  in the initial list.\n",
      "There are  24  numbers smaller than  92  in the initial list.\n",
      "There are  24  numbers smaller than  93  in the initial list.\n",
      "There are  24  numbers smaller than  93  in the initial list.\n",
      "There are  24  numbers smaller than  94  in the initial list.\n",
      "There are  24  numbers smaller than  94  in the initial list.\n",
      "There are  24  numbers smaller than  95  in the initial list.\n",
      "There are  24  numbers smaller than  95  in the initial list.\n",
      "There are  24  numbers smaller than  96  in the initial list.\n",
      "There are  24  numbers smaller than  96  in the initial list.\n",
      "There are  24  numbers smaller than  97  in the initial list.\n",
      "There are  24  numbers smaller than  97  in the initial list.\n",
      "There are  24  numbers smaller than  98  in the initial list.\n",
      "There are  24  numbers smaller than  98  in the initial list.\n",
      "There are  24  numbers smaller than  99  in the initial list.\n",
      "There are  24  numbers smaller than  99  in the initial list.\n",
      "There are  24  numbers smaller than  100  in the initial list.\n",
      "There are  24  numbers smaller than  100  in the initial list.\n"
     ]
    }
   ],
   "source": [
    "for i in range(1,101):\n",
    "    aux=list(filter(lambda x:x<i,nums3))\n",
    "    c=0;\n",
    "    for j in range(0,len(nums3)):\n",
    "        if nums3[j]<i:\n",
    "            c+=1\n",
    "    if c!=1:\n",
    "        print(\"There are \",len(aux),\" numbers smaller than \",i,\" in the initial list.\")\n",
    "        print(\"There are \",c,\" numbers smaller than \",i,\" in the initial list.\")\n",
    "    else: \n",
    "        print(\"There is only one number smaller than \",i,\" in the initial list.\")\n",
    "        print(\"There is only one number smaller than \",i,\" in the initial list.\")\n",
    "            "
   ]
  }
 ],
 "metadata": {
  "celltoolbar": "Slideshow",
  "kernelspec": {
   "display_name": "Python 3",
   "language": "python",
   "name": "python3"
  },
  "language_info": {
   "codemirror_mode": {
    "name": "ipython",
    "version": 3
   },
   "file_extension": ".py",
   "mimetype": "text/x-python",
   "name": "python",
   "nbconvert_exporter": "python",
   "pygments_lexer": "ipython3",
   "version": "3.7.0"
  }
 },
 "nbformat": 4,
 "nbformat_minor": 2
}
